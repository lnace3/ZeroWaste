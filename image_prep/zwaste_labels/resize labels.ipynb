{
 "cells": [
  {
   "cell_type": "code",
   "execution_count": 1,
   "metadata": {},
   "outputs": [],
   "source": [
    "import os\n",
    "import cv2\n",
    "import glob\n",
    "import math\n",
    "import matplotlib.pyplot as plt\n",
    "import skimage\n",
    "import re\n",
    "from skimage import transform\n",
    "import numpy as np\n",
    "from PIL import Image"
   ]
  },
  {
   "cell_type": "code",
   "execution_count": 285,
   "metadata": {},
   "outputs": [],
   "source": [
    "def resizeann():\n",
    "\t\n",
    "\t\"\"\"\n",
    "\tUsed to resize the bounding box dimensions inside the\n",
    "\tannotations IF you resized images AFTER annotating them\n",
    "\t\"\"\"\n",
    "\n",
    "\tx = glob.glob('./*xml')\n",
    "\tfor xml in x:\n",
    "\t\t\n",
    "\t\twith open(xml, 'r') as file:\n",
    "\t\t\tdata = file.readlines()\n",
    "\t\t\n",
    "\t\tflag = False\t\n",
    "\t\tfor i in range(100):\n",
    "\t\t\t\n",
    "\t\t\tif(data[i][2:9] == '<width>'):\n",
    "\t\t\t\twidth = int(re.findall(r'\\d+', data[i])[0])\n",
    "\t\t\t\theight = int(re.findall(r'\\d+', data[i+1])[0])\n",
    "\t\t\t\t\n",
    "\t\t\t\tif(width == 1920):\n",
    "\t\t\t\t\twidth = width // 6\n",
    "\t\t\t\t\theight = height // 6\n",
    "\t\t\t\t\tflag = True\n",
    "\t\t\t\telse:\n",
    "\t\t\t\t\twidth = width // 4\n",
    "\t\t\t\t\theight = height // 4\n",
    "\n",
    "\t\t\t\tdata[i] = '    <width>' + str(width) + '</width>\\n'\n",
    "\t\t\t\tdata[i+1] = '    <height>' + str(height) + '</height>\\n'\n",
    "\n",
    "\t\t\tif(data[i][3:9] == '<xmin>'):\n",
    "\t\t\t\txmin = int(re.findall(r'\\d+', data[i])[0])\n",
    "\t\t\t\tymin = int(re.findall(r'\\d+', data[i+1])[0])\n",
    "\t\t\t\txmax = int(re.findall(r'\\d+', data[i+2])[0])\n",
    "\t\t\t\tymax = int(re.findall(r'\\d+', data[i+3])[0])\t\t\t\t\n",
    "\t\t\t\t\n",
    "\t\t\t\tif(flag):\n",
    "\t\t\t\t\txmin = xmin // 6\n",
    "\t\t\t\t\txmax = xmax // 6\n",
    "\t\t\t\t\tymin = ymin // 6\n",
    "\t\t\t\t\tymax = ymax // 6\n",
    "\t\t\t\telse:\n",
    "\t\t\t\t\txmin = xmin // 4\n",
    "\t\t\t\t\txmax = xmax // 4\n",
    "\t\t\t\t\tymin = ymin // 4\n",
    "\t\t\t\t\tymax = ymax // 4\n",
    "\n",
    "\t\t\t\tdata[i] = '      <xmin>' + str(xmin) + '</xmin>\\n'\n",
    "\t\t\t\tdata[i+1] = '      <ymin>' + str(ymin) + '</ymin>\\n'\n",
    "\t\t\t\tdata[i+2] = '      <xmax>' + str(xmax) + '</xmax>\\n'\n",
    "\t\t\t\tdata[i+3] = '      <ymax>' + str(ymax) + '</ymax>\\n'\n",
    "\n",
    "\t\t\tif(data[i] == '</annotation>\\n'):\n",
    "\t\t\t\tbreak\n",
    "\n",
    "\t\twith open(xml[2:], 'w') as file:\n",
    "\t\t\tfile.writelines(data)"
   ]
  },
  {
   "cell_type": "code",
   "execution_count": 286,
   "metadata": {},
   "outputs": [],
   "source": [
    "resizeann()"
   ]
  },
  {
   "cell_type": "code",
   "execution_count": null,
   "metadata": {},
   "outputs": [],
   "source": []
  },
  {
   "cell_type": "code",
   "execution_count": null,
   "metadata": {},
   "outputs": [],
   "source": []
  },
  {
   "cell_type": "code",
   "execution_count": null,
   "metadata": {},
   "outputs": [],
   "source": []
  },
  {
   "cell_type": "code",
   "execution_count": null,
   "metadata": {},
   "outputs": [],
   "source": []
  },
  {
   "cell_type": "code",
   "execution_count": null,
   "metadata": {},
   "outputs": [],
   "source": []
  },
  {
   "cell_type": "code",
   "execution_count": null,
   "metadata": {},
   "outputs": [],
   "source": []
  },
  {
   "cell_type": "code",
   "execution_count": 280,
   "metadata": {},
   "outputs": [],
   "source": [
    "#with open('/home/redne/ZeroWaste/images/original/z1_rs_lb/gt2.xml', 'r') as file:\n",
    "with open('/home/redne/ZeroWaste/images/original/z1_rs_lb/IMG_3113.xml', 'r') as file:\n",
    "    data = file.readlines()"
   ]
  },
  {
   "cell_type": "code",
   "execution_count": 276,
   "metadata": {},
   "outputs": [
    {
     "data": {
      "text/plain": [
       "['<annotation>\\n',\n",
       " '\\t<folder>zwaste</folder>\\n',\n",
       " '\\t<filename>IMG_3117.JPG</filename>\\n',\n",
       " '\\t<path>/home/redne/ZeroWaste/images/original/zwaste/IMG_3117.JPG</path>\\n',\n",
       " '\\t<source>\\n',\n",
       " '\\t\\t<database>Unknown</database>\\n',\n",
       " '\\t</source>\\n',\n",
       " '\\t<size>\\n',\n",
       " '\\t\\t<width>816</width>\\n',\n",
       " '\\t\\t<height>612</height>\\n',\n",
       " '\\t\\t<depth>3</depth>\\n',\n",
       " '\\t</size>\\n',\n",
       " '\\t<segmented>0</segmented>\\n',\n",
       " '\\t<object>\\n',\n",
       " '\\t\\t<name>ms coffee cups</name>\\n',\n",
       " '\\t\\t<pose>Unspecified</pose>\\n',\n",
       " '\\t\\t<truncated>0</truncated>\\n',\n",
       " '\\t\\t<difficult>0</difficult>\\n',\n",
       " '\\t\\t<bndbox>\\n',\n",
       " '\\t\\t\\t<xmin>341</xmin>\\n',\n",
       " '\\t\\t\\t<ymin>166</ymin>\\n',\n",
       " '\\t\\t\\t<xmax>531</xmax>\\n',\n",
       " '\\t\\t\\t<ymax>430</ymax>\\n',\n",
       " '\\t\\t</bndbox>\\n',\n",
       " '\\t</object>\\n',\n",
       " '</annotation>\\n']"
      ]
     },
     "execution_count": 276,
     "metadata": {},
     "output_type": "execute_result"
    }
   ],
   "source": [
    "data"
   ]
  },
  {
   "cell_type": "code",
   "execution_count": 255,
   "metadata": {},
   "outputs": [
    {
     "name": "stdout",
     "output_type": "stream",
     "text": [
      "1280\n",
      "586\n"
     ]
    },
    {
     "ename": "IndexError",
     "evalue": "list index out of range",
     "output_type": "error",
     "traceback": [
      "\u001b[0;31m---------------------------------------------------------------------------\u001b[0m",
      "\u001b[0;31mIndexError\u001b[0m                                Traceback (most recent call last)",
      "\u001b[0;32m<ipython-input-255-a8865616a9a2>\u001b[0m in \u001b[0;36m<module>\u001b[0;34m()\u001b[0m\n\u001b[1;32m      1\u001b[0m \u001b[0;32mfor\u001b[0m \u001b[0mi\u001b[0m \u001b[0;32min\u001b[0m \u001b[0mrange\u001b[0m\u001b[0;34m(\u001b[0m\u001b[0;36m100\u001b[0m\u001b[0;34m)\u001b[0m\u001b[0;34m:\u001b[0m\u001b[0;34m\u001b[0m\u001b[0m\n\u001b[0;32m----> 2\u001b[0;31m     \u001b[0;32mif\u001b[0m\u001b[0;34m(\u001b[0m\u001b[0mdata\u001b[0m\u001b[0;34m[\u001b[0m\u001b[0mi\u001b[0m\u001b[0;34m]\u001b[0m\u001b[0;34m[\u001b[0m\u001b[0;36m4\u001b[0m\u001b[0;34m:\u001b[0m\u001b[0;36m11\u001b[0m\u001b[0;34m]\u001b[0m \u001b[0;34m==\u001b[0m \u001b[0;34m'<width>'\u001b[0m\u001b[0;34m)\u001b[0m\u001b[0;34m:\u001b[0m\u001b[0;34m\u001b[0m\u001b[0m\n\u001b[0m\u001b[1;32m      3\u001b[0m         \u001b[0mwidth\u001b[0m \u001b[0;34m=\u001b[0m \u001b[0mint\u001b[0m\u001b[0;34m(\u001b[0m\u001b[0mre\u001b[0m\u001b[0;34m.\u001b[0m\u001b[0mfindall\u001b[0m\u001b[0;34m(\u001b[0m\u001b[0;34mr'\\d+'\u001b[0m\u001b[0;34m,\u001b[0m \u001b[0mdata\u001b[0m\u001b[0;34m[\u001b[0m\u001b[0mi\u001b[0m\u001b[0;34m]\u001b[0m\u001b[0;34m)\u001b[0m\u001b[0;34m[\u001b[0m\u001b[0;36m0\u001b[0m\u001b[0;34m]\u001b[0m\u001b[0;34m)\u001b[0m\u001b[0;34m\u001b[0m\u001b[0m\n\u001b[1;32m      4\u001b[0m         \u001b[0mheight\u001b[0m \u001b[0;34m=\u001b[0m \u001b[0mint\u001b[0m\u001b[0;34m(\u001b[0m\u001b[0mre\u001b[0m\u001b[0;34m.\u001b[0m\u001b[0mfindall\u001b[0m\u001b[0;34m(\u001b[0m\u001b[0;34mr'\\d+'\u001b[0m\u001b[0;34m,\u001b[0m \u001b[0mdata\u001b[0m\u001b[0;34m[\u001b[0m\u001b[0mi\u001b[0m\u001b[0;34m+\u001b[0m\u001b[0;36m1\u001b[0m\u001b[0;34m]\u001b[0m\u001b[0;34m)\u001b[0m\u001b[0;34m[\u001b[0m\u001b[0;36m0\u001b[0m\u001b[0;34m]\u001b[0m\u001b[0;34m)\u001b[0m\u001b[0;34m\u001b[0m\u001b[0m\n\u001b[1;32m      5\u001b[0m \u001b[0;34m\u001b[0m\u001b[0m\n",
      "\u001b[0;31mIndexError\u001b[0m: list index out of range"
     ]
    }
   ],
   "source": [
    "for i in range(100):\n",
    "    if(data[i][4:11] == '<width>'):\n",
    "        width = int(re.findall(r'\\d+', data[i])[0])\n",
    "        height = int(re.findall(r'\\d+', data[i+1])[0])\n",
    "        \n",
    "        print(width)\n",
    "        print(height)"
   ]
  },
  {
   "cell_type": "code",
   "execution_count": 248,
   "metadata": {},
   "outputs": [
    {
     "name": "stdout",
     "output_type": "stream",
     "text": [
      "3264\n",
      "2448\n"
     ]
    },
    {
     "ename": "IndexError",
     "evalue": "list index out of range",
     "output_type": "error",
     "traceback": [
      "\u001b[0;31m---------------------------------------------------------------------------\u001b[0m",
      "\u001b[0;31mIndexError\u001b[0m                                Traceback (most recent call last)",
      "\u001b[0;32m<ipython-input-248-41ba646ddd3e>\u001b[0m in \u001b[0;36m<module>\u001b[0;34m()\u001b[0m\n\u001b[1;32m      1\u001b[0m \u001b[0;32mfor\u001b[0m \u001b[0mi\u001b[0m \u001b[0;32min\u001b[0m \u001b[0mrange\u001b[0m\u001b[0;34m(\u001b[0m\u001b[0;36m100\u001b[0m\u001b[0;34m)\u001b[0m\u001b[0;34m:\u001b[0m\u001b[0;34m\u001b[0m\u001b[0m\n\u001b[1;32m      2\u001b[0m \u001b[0;34m\u001b[0m\u001b[0m\n\u001b[0;32m----> 3\u001b[0;31m     \u001b[0;32mif\u001b[0m\u001b[0;34m(\u001b[0m\u001b[0mdata\u001b[0m\u001b[0;34m[\u001b[0m\u001b[0mi\u001b[0m\u001b[0;34m]\u001b[0m\u001b[0;34m[\u001b[0m\u001b[0;36m2\u001b[0m\u001b[0;34m:\u001b[0m\u001b[0;36m9\u001b[0m\u001b[0;34m]\u001b[0m \u001b[0;34m==\u001b[0m \u001b[0;34m'<width>'\u001b[0m\u001b[0;34m)\u001b[0m\u001b[0;34m:\u001b[0m\u001b[0;34m\u001b[0m\u001b[0m\n\u001b[0m\u001b[1;32m      4\u001b[0m         \u001b[0mwidth\u001b[0m \u001b[0;34m=\u001b[0m \u001b[0mint\u001b[0m\u001b[0;34m(\u001b[0m\u001b[0mre\u001b[0m\u001b[0;34m.\u001b[0m\u001b[0mfindall\u001b[0m\u001b[0;34m(\u001b[0m\u001b[0;34mr'\\d+'\u001b[0m\u001b[0;34m,\u001b[0m \u001b[0mdata\u001b[0m\u001b[0;34m[\u001b[0m\u001b[0mi\u001b[0m\u001b[0;34m]\u001b[0m\u001b[0;34m)\u001b[0m\u001b[0;34m[\u001b[0m\u001b[0;36m0\u001b[0m\u001b[0;34m]\u001b[0m\u001b[0;34m)\u001b[0m\u001b[0;34m\u001b[0m\u001b[0m\n\u001b[1;32m      5\u001b[0m         \u001b[0mheight\u001b[0m \u001b[0;34m=\u001b[0m \u001b[0mint\u001b[0m\u001b[0;34m(\u001b[0m\u001b[0mre\u001b[0m\u001b[0;34m.\u001b[0m\u001b[0mfindall\u001b[0m\u001b[0;34m(\u001b[0m\u001b[0;34mr'\\d+'\u001b[0m\u001b[0;34m,\u001b[0m \u001b[0mdata\u001b[0m\u001b[0;34m[\u001b[0m\u001b[0mi\u001b[0m\u001b[0;34m+\u001b[0m\u001b[0;36m1\u001b[0m\u001b[0;34m]\u001b[0m\u001b[0;34m)\u001b[0m\u001b[0;34m[\u001b[0m\u001b[0;36m0\u001b[0m\u001b[0;34m]\u001b[0m\u001b[0;34m)\u001b[0m\u001b[0;34m\u001b[0m\u001b[0m\n",
      "\u001b[0;31mIndexError\u001b[0m: list index out of range"
     ]
    }
   ],
   "source": [
    "for i in range(100):\n",
    "\t\t\t\n",
    "    if(data[i][2:9] == '<width>'):\n",
    "        width = int(re.findall(r'\\d+', data[i])[0])\n",
    "        height = int(re.findall(r'\\d+', data[i+1])[0])\n",
    "        \n",
    "        print(width)\n",
    "        print(height)"
   ]
  },
  {
   "cell_type": "code",
   "execution_count": 258,
   "metadata": {
    "scrolled": true
   },
   "outputs": [
    {
     "ename": "IndexError",
     "evalue": "list index out of range",
     "output_type": "error",
     "traceback": [
      "\u001b[0;31m---------------------------------------------------------------------------\u001b[0m",
      "\u001b[0;31mIndexError\u001b[0m                                Traceback (most recent call last)",
      "\u001b[0;32m<ipython-input-258-0a76e0386fda>\u001b[0m in \u001b[0;36m<module>\u001b[0;34m()\u001b[0m\n\u001b[1;32m      1\u001b[0m \u001b[0;32mfor\u001b[0m \u001b[0mi\u001b[0m \u001b[0;32min\u001b[0m \u001b[0mrange\u001b[0m\u001b[0;34m(\u001b[0m\u001b[0;36m100\u001b[0m\u001b[0;34m)\u001b[0m\u001b[0;34m:\u001b[0m\u001b[0;34m\u001b[0m\u001b[0m\n\u001b[0;32m----> 2\u001b[0;31m     \u001b[0;32mif\u001b[0m\u001b[0;34m(\u001b[0m\u001b[0mdata\u001b[0m\u001b[0;34m[\u001b[0m\u001b[0mi\u001b[0m\u001b[0;34m]\u001b[0m\u001b[0;34m[\u001b[0m\u001b[0;36m6\u001b[0m\u001b[0;34m:\u001b[0m\u001b[0;36m12\u001b[0m\u001b[0;34m]\u001b[0m \u001b[0;34m==\u001b[0m \u001b[0;34m'<xmin>'\u001b[0m\u001b[0;34m)\u001b[0m\u001b[0;34m:\u001b[0m\u001b[0;34m\u001b[0m\u001b[0m\n\u001b[0m\u001b[1;32m      3\u001b[0m         \u001b[0mxmin\u001b[0m \u001b[0;34m=\u001b[0m \u001b[0mint\u001b[0m\u001b[0;34m(\u001b[0m\u001b[0mre\u001b[0m\u001b[0;34m.\u001b[0m\u001b[0mfindall\u001b[0m\u001b[0;34m(\u001b[0m\u001b[0;34mr'\\d+'\u001b[0m\u001b[0;34m,\u001b[0m \u001b[0mdata\u001b[0m\u001b[0;34m[\u001b[0m\u001b[0mi\u001b[0m\u001b[0;34m]\u001b[0m\u001b[0;34m)\u001b[0m\u001b[0;34m[\u001b[0m\u001b[0;36m0\u001b[0m\u001b[0;34m]\u001b[0m\u001b[0;34m)\u001b[0m\u001b[0;34m\u001b[0m\u001b[0m\n\u001b[1;32m      4\u001b[0m         \u001b[0mymin\u001b[0m \u001b[0;34m=\u001b[0m \u001b[0mint\u001b[0m\u001b[0;34m(\u001b[0m\u001b[0mre\u001b[0m\u001b[0;34m.\u001b[0m\u001b[0mfindall\u001b[0m\u001b[0;34m(\u001b[0m\u001b[0;34mr'\\d+'\u001b[0m\u001b[0;34m,\u001b[0m \u001b[0mdata\u001b[0m\u001b[0;34m[\u001b[0m\u001b[0mi\u001b[0m\u001b[0;34m+\u001b[0m\u001b[0;36m1\u001b[0m\u001b[0;34m]\u001b[0m\u001b[0;34m)\u001b[0m\u001b[0;34m[\u001b[0m\u001b[0;36m0\u001b[0m\u001b[0;34m]\u001b[0m\u001b[0;34m)\u001b[0m\u001b[0;34m\u001b[0m\u001b[0m\n\u001b[1;32m      5\u001b[0m         \u001b[0mxmax\u001b[0m \u001b[0;34m=\u001b[0m \u001b[0mint\u001b[0m\u001b[0;34m(\u001b[0m\u001b[0mre\u001b[0m\u001b[0;34m.\u001b[0m\u001b[0mfindall\u001b[0m\u001b[0;34m(\u001b[0m\u001b[0;34mr'\\d+'\u001b[0m\u001b[0;34m,\u001b[0m \u001b[0mdata\u001b[0m\u001b[0;34m[\u001b[0m\u001b[0mi\u001b[0m\u001b[0;34m+\u001b[0m\u001b[0;36m2\u001b[0m\u001b[0;34m]\u001b[0m\u001b[0;34m)\u001b[0m\u001b[0;34m[\u001b[0m\u001b[0;36m0\u001b[0m\u001b[0;34m]\u001b[0m\u001b[0;34m)\u001b[0m\u001b[0;34m\u001b[0m\u001b[0m\n",
      "\u001b[0;31mIndexError\u001b[0m: list index out of range"
     ]
    }
   ],
   "source": [
    "for i in range(100):\n",
    "    if(data[i][6:12] == '<xmin>'):\n",
    "        xmin = int(re.findall(r'\\d+', data[i])[0])\n",
    "        ymin = int(re.findall(r'\\d+', data[i+1])[0])\n",
    "        xmax = int(re.findall(r'\\d+', data[i+2])[0])\n",
    "        ymax = int(re.findall(r'\\d+', data[i+3])[0])"
   ]
  },
  {
   "cell_type": "code",
   "execution_count": 260,
   "metadata": {},
   "outputs": [
    {
     "data": {
      "text/plain": [
       "365"
      ]
     },
     "execution_count": 260,
     "metadata": {},
     "output_type": "execute_result"
    }
   ],
   "source": [
    "ymin"
   ]
  },
  {
   "cell_type": "code",
   "execution_count": 269,
   "metadata": {},
   "outputs": [
    {
     "ename": "IndexError",
     "evalue": "list index out of range",
     "output_type": "error",
     "traceback": [
      "\u001b[0;31m---------------------------------------------------------------------------\u001b[0m",
      "\u001b[0;31mIndexError\u001b[0m                                Traceback (most recent call last)",
      "\u001b[0;32m<ipython-input-269-923c10d4765d>\u001b[0m in \u001b[0;36m<module>\u001b[0;34m()\u001b[0m\n\u001b[1;32m      1\u001b[0m \u001b[0;32mfor\u001b[0m \u001b[0mi\u001b[0m \u001b[0;32min\u001b[0m \u001b[0mrange\u001b[0m\u001b[0;34m(\u001b[0m\u001b[0;36m100\u001b[0m\u001b[0;34m)\u001b[0m\u001b[0;34m:\u001b[0m\u001b[0;34m\u001b[0m\u001b[0m\n\u001b[0;32m----> 2\u001b[0;31m     \u001b[0;32mif\u001b[0m\u001b[0;34m(\u001b[0m\u001b[0mdata\u001b[0m\u001b[0;34m[\u001b[0m\u001b[0mi\u001b[0m\u001b[0;34m]\u001b[0m\u001b[0;34m[\u001b[0m\u001b[0;36m6\u001b[0m\u001b[0;34m:\u001b[0m\u001b[0;36m12\u001b[0m\u001b[0;34m]\u001b[0m \u001b[0;34m==\u001b[0m \u001b[0;34m'<xmin>'\u001b[0m\u001b[0;34m)\u001b[0m\u001b[0;34m:\u001b[0m\u001b[0;34m\u001b[0m\u001b[0m\n\u001b[0m\u001b[1;32m      3\u001b[0m         \u001b[0mxmin\u001b[0m \u001b[0;34m=\u001b[0m \u001b[0mint\u001b[0m\u001b[0;34m(\u001b[0m\u001b[0mre\u001b[0m\u001b[0;34m.\u001b[0m\u001b[0mfindall\u001b[0m\u001b[0;34m(\u001b[0m\u001b[0;34mr'\\d+'\u001b[0m\u001b[0;34m,\u001b[0m \u001b[0mdata\u001b[0m\u001b[0;34m[\u001b[0m\u001b[0mi\u001b[0m\u001b[0;34m]\u001b[0m\u001b[0;34m)\u001b[0m\u001b[0;34m[\u001b[0m\u001b[0;36m0\u001b[0m\u001b[0;34m]\u001b[0m\u001b[0;34m)\u001b[0m\u001b[0;34m\u001b[0m\u001b[0m\n\u001b[1;32m      4\u001b[0m         \u001b[0mymin\u001b[0m \u001b[0;34m=\u001b[0m \u001b[0mint\u001b[0m\u001b[0;34m(\u001b[0m\u001b[0mre\u001b[0m\u001b[0;34m.\u001b[0m\u001b[0mfindall\u001b[0m\u001b[0;34m(\u001b[0m\u001b[0;34mr'\\d+'\u001b[0m\u001b[0;34m,\u001b[0m \u001b[0mdata\u001b[0m\u001b[0;34m[\u001b[0m\u001b[0mi\u001b[0m\u001b[0;34m+\u001b[0m\u001b[0;36m1\u001b[0m\u001b[0;34m]\u001b[0m\u001b[0;34m)\u001b[0m\u001b[0;34m[\u001b[0m\u001b[0;36m0\u001b[0m\u001b[0;34m]\u001b[0m\u001b[0;34m)\u001b[0m\u001b[0;34m\u001b[0m\u001b[0m\n\u001b[1;32m      5\u001b[0m         \u001b[0mxmax\u001b[0m \u001b[0;34m=\u001b[0m \u001b[0mint\u001b[0m\u001b[0;34m(\u001b[0m\u001b[0mre\u001b[0m\u001b[0;34m.\u001b[0m\u001b[0mfindall\u001b[0m\u001b[0;34m(\u001b[0m\u001b[0;34mr'\\d+'\u001b[0m\u001b[0;34m,\u001b[0m \u001b[0mdata\u001b[0m\u001b[0;34m[\u001b[0m\u001b[0mi\u001b[0m\u001b[0;34m+\u001b[0m\u001b[0;36m2\u001b[0m\u001b[0;34m]\u001b[0m\u001b[0;34m)\u001b[0m\u001b[0;34m[\u001b[0m\u001b[0;36m0\u001b[0m\u001b[0;34m]\u001b[0m\u001b[0;34m)\u001b[0m\u001b[0;34m\u001b[0m\u001b[0m\n",
      "\u001b[0;31mIndexError\u001b[0m: list index out of range"
     ]
    }
   ],
   "source": [
    "for i in range(100):   \n",
    "    if(data[i][6:12] == '<xmin>'):\n",
    "        xmin = int(re.findall(r'\\d+', data[i])[0])\n",
    "        ymin = int(re.findall(r'\\d+', data[i+1])[0])\n",
    "        xmax = int(re.findall(r'\\d+', data[i+2])[0])\n",
    "        ymax = int(re.findall(r'\\d+', data[i+3])[0])"
   ]
  },
  {
   "cell_type": "code",
   "execution_count": null,
   "metadata": {},
   "outputs": [],
   "source": []
  },
  {
   "cell_type": "code",
   "execution_count": 242,
   "metadata": {},
   "outputs": [
    {
     "data": {
      "text/plain": [
       "'idth>32'"
      ]
     },
     "execution_count": 242,
     "metadata": {},
     "output_type": "execute_result"
    }
   ],
   "source": [
    "data[8][4:11]"
   ]
  },
  {
   "cell_type": "code",
   "execution_count": 281,
   "metadata": {},
   "outputs": [
    {
     "data": {
      "text/plain": [
       "'<width>'"
      ]
     },
     "execution_count": 281,
     "metadata": {},
     "output_type": "execute_result"
    }
   ],
   "source": [
    "data[8][2:9]"
   ]
  },
  {
   "cell_type": "code",
   "execution_count": 150,
   "metadata": {},
   "outputs": [
    {
     "data": {
      "text/plain": [
       "38"
      ]
     },
     "execution_count": 150,
     "metadata": {},
     "output_type": "execute_result"
    }
   ],
   "source": [
    "len(data)"
   ]
  },
  {
   "cell_type": "code",
   "execution_count": 109,
   "metadata": {},
   "outputs": [
    {
     "data": {
      "text/plain": [
       "'width'"
      ]
     },
     "execution_count": 109,
     "metadata": {},
     "output_type": "execute_result"
    }
   ],
   "source": [
    "data[8]"
   ]
  },
  {
   "cell_type": "code",
   "execution_count": 278,
   "metadata": {},
   "outputs": [
    {
     "data": {
      "text/plain": [
       "'in>341'"
      ]
     },
     "execution_count": 278,
     "metadata": {},
     "output_type": "execute_result"
    }
   ],
   "source": [
    "data[19][6:12]"
   ]
  },
  {
   "cell_type": "code",
   "execution_count": 282,
   "metadata": {},
   "outputs": [
    {
     "data": {
      "text/plain": [
       "'<xmin>'"
      ]
     },
     "execution_count": 282,
     "metadata": {},
     "output_type": "execute_result"
    }
   ],
   "source": [
    "data[19][3:9]"
   ]
  },
  {
   "cell_type": "code",
   "execution_count": 113,
   "metadata": {},
   "outputs": [
    {
     "data": {
      "text/plain": [
       "'244'"
      ]
     },
     "execution_count": 113,
     "metadata": {},
     "output_type": "execute_result"
    }
   ],
   "source": [
    "data[9][10:13]"
   ]
  },
  {
   "cell_type": "code",
   "execution_count": null,
   "metadata": {},
   "outputs": [],
   "source": []
  },
  {
   "cell_type": "code",
   "execution_count": null,
   "metadata": {},
   "outputs": [],
   "source": []
  },
  {
   "cell_type": "code",
   "execution_count": null,
   "metadata": {},
   "outputs": [],
   "source": []
  },
  {
   "cell_type": "code",
   "execution_count": 35,
   "metadata": {},
   "outputs": [],
   "source": [
    "x = glob.glob('./*xml')"
   ]
  },
  {
   "cell_type": "code",
   "execution_count": 36,
   "metadata": {},
   "outputs": [
    {
     "data": {
      "text/plain": [
       "['./IMG_3116.xml',\n",
       " './IMG_3117.xml',\n",
       " './IMG_3114.xml',\n",
       " './IMG_3115.xml',\n",
       " './IMG_3113.xml']"
      ]
     },
     "execution_count": 36,
     "metadata": {},
     "output_type": "execute_result"
    }
   ],
   "source": [
    "x"
   ]
  },
  {
   "cell_type": "code",
   "execution_count": 48,
   "metadata": {},
   "outputs": [],
   "source": [
    "with open(x[1], 'r') as file:\n",
    "    data = xmltodict.parse(file.read())"
   ]
  },
  {
   "cell_type": "code",
   "execution_count": 49,
   "metadata": {},
   "outputs": [
    {
     "data": {
      "text/plain": [
       "OrderedDict([('annotation',\n",
       "              OrderedDict([('folder', 'zwaste'),\n",
       "                           ('filename', 'IMG_3117.JPG'),\n",
       "                           ('path',\n",
       "                            '/home/redne/ZeroWaste/images/original/zwaste/IMG_3117.JPG'),\n",
       "                           ('source', OrderedDict([('database', 'Unknown')])),\n",
       "                           ('size',\n",
       "                            OrderedDict([('width', '816'),\n",
       "                                         ('height', '612'),\n",
       "                                         ('depth', '3')])),\n",
       "                           ('segmented', '0'),\n",
       "                           ('object',\n",
       "                            OrderedDict([('name', 'ms coffee cups'),\n",
       "                                         ('pose', 'Unspecified'),\n",
       "                                         ('truncated', '0'),\n",
       "                                         ('difficult', '0'),\n",
       "                                         ('bndbox',\n",
       "                                          OrderedDict([('xmin', '341'),\n",
       "                                                       ('ymin', '166'),\n",
       "                                                       ('xmax', '531'),\n",
       "                                                       ('ymax',\n",
       "                                                        '430')]))]))]))])"
      ]
     },
     "execution_count": 49,
     "metadata": {},
     "output_type": "execute_result"
    }
   ],
   "source": [
    "data"
   ]
  },
  {
   "cell_type": "code",
   "execution_count": 52,
   "metadata": {},
   "outputs": [
    {
     "data": {
      "text/plain": [
       "OrderedDict([('folder', 'zwaste'),\n",
       "             ('filename', 'IMG_3117.JPG'),\n",
       "             ('path',\n",
       "              '/home/redne/ZeroWaste/images/original/zwaste/IMG_3117.JPG'),\n",
       "             ('source', OrderedDict([('database', 'Unknown')])),\n",
       "             ('size',\n",
       "              OrderedDict([('width', '816'),\n",
       "                           ('height', '612'),\n",
       "                           ('depth', '3')])),\n",
       "             ('segmented', '0'),\n",
       "             ('object',\n",
       "              OrderedDict([('name', 'ms coffee cups'),\n",
       "                           ('pose', 'Unspecified'),\n",
       "                           ('truncated', '0'),\n",
       "                           ('difficult', '0'),\n",
       "                           ('bndbox',\n",
       "                            OrderedDict([('xmin', '341'),\n",
       "                                         ('ymin', '166'),\n",
       "                                         ('xmax', '531'),\n",
       "                                         ('ymax', '430')]))]))])"
      ]
     },
     "execution_count": 52,
     "metadata": {},
     "output_type": "execute_result"
    }
   ],
   "source": [
    "data['annotation']['']"
   ]
  },
  {
   "cell_type": "code",
   "execution_count": 9,
   "metadata": {},
   "outputs": [
    {
     "data": {
      "text/plain": [
       "['<annotation>\\n',\n",
       " '\\t<folder>zwaste</folder>\\n',\n",
       " '\\t<filename>IMG_3117.JPG</filename>\\n',\n",
       " '\\t<path>/home/redne/ZeroWaste/images/original/zwaste/IMG_3117.JPG</path>\\n',\n",
       " '\\t<source>\\n',\n",
       " '\\t\\t<database>Unknown</database>\\n',\n",
       " '\\t</source>\\n',\n",
       " '\\t<size>\\n',\n",
       " '\\t\\t<width>3264</width>\\n',\n",
       " '\\t\\t<height>2448</height>\\n',\n",
       " '\\t\\t<depth>3</depth>\\n',\n",
       " '\\t</size>\\n',\n",
       " '\\t<segmented>0</segmented>\\n',\n",
       " '\\t<object>\\n',\n",
       " '\\t\\t<name>ms coffee cups</name>\\n',\n",
       " '\\t\\t<pose>Unspecified</pose>\\n',\n",
       " '\\t\\t<truncated>0</truncated>\\n',\n",
       " '\\t\\t<difficult>0</difficult>\\n',\n",
       " '\\t\\t<bndbox>\\n',\n",
       " '\\t\\t\\t<xmin>1364</xmin>\\n',\n",
       " '\\t\\t\\t<ymin>664</ymin>\\n',\n",
       " '\\t\\t\\t<xmax>2127</xmax>\\n',\n",
       " '\\t\\t\\t<ymax>1722</ymax>\\n',\n",
       " '\\t\\t</bndbox>\\n',\n",
       " '\\t</object>\\n',\n",
       " '</annotation>\\n']"
      ]
     },
     "execution_count": 9,
     "metadata": {},
     "output_type": "execute_result"
    }
   ],
   "source": [
    "data\n",
    "\n",
    "\n",
    "\n"
   ]
  },
  {
   "cell_type": "code",
   "execution_count": 22,
   "metadata": {},
   "outputs": [
    {
     "data": {
      "text/plain": [
       "816"
      ]
     },
     "execution_count": 22,
     "metadata": {},
     "output_type": "execute_result"
    }
   ],
   "source": [
    "3264 // 4"
   ]
  },
  {
   "cell_type": "code",
   "execution_count": 200,
   "metadata": {},
   "outputs": [],
   "source": [
    "import xml\n",
    "import xml.etree.ElementTree as ET"
   ]
  },
  {
   "cell_type": "code",
   "execution_count": 201,
   "metadata": {},
   "outputs": [],
   "source": [
    "e = etree.ElementTree.parse('/home/redne/ZeroWaste/images/original/z1_rs_lb/IMG_3116.xml')\n",
    "root = e.getroot()"
   ]
  },
  {
   "cell_type": "code",
   "execution_count": 202,
   "metadata": {},
   "outputs": [],
   "source": [
    "obj_xml = root.findall('object')"
   ]
  },
  {
   "cell_type": "code",
   "execution_count": 203,
   "metadata": {},
   "outputs": [
    {
     "data": {
      "text/plain": [
       "[<Element 'object' at 0x7fcbfe13a958>, <Element 'object' at 0x7fcbfe0cc9a8>]"
      ]
     },
     "execution_count": 203,
     "metadata": {},
     "output_type": "execute_result"
    }
   ],
   "source": [
    "obj_xml"
   ]
  },
  {
   "cell_type": "code",
   "execution_count": 204,
   "metadata": {},
   "outputs": [
    {
     "name": "stdout",
     "output_type": "stream",
     "text": [
      "394\n",
      "98\n",
      "1784\n",
      "446\n"
     ]
    }
   ],
   "source": [
    "for obj in obj_xml:    \n",
    "    bbox_original = obj.find('bndbox')\n",
    "    print(bbox_original.find('xmin').text)\n",
    "    bbox_original.find('xmin').text = int(bbox_original.find('xmin').text) // 4\n",
    "    bbox_original.find('ymin').text = int(bbox_original.find('ymin').text) // 4\n",
    "    bbox_original.find('xmax').text = int(bbox_original.find('ymin').text) // 4\n",
    "    bbox_original.find('ymax').text = int(bbox_original.find('ymax').text) // 4\n",
    "    \n",
    "    print(bbox_original.find('xmin').text)\n",
    "    \n",
    "#e.write('gt2.xml')"
   ]
  },
  {
   "cell_type": "code",
   "execution_count": null,
   "metadata": {},
   "outputs": [],
   "source": [
    "obj_xml = root.findall('size')\n",
    "for obj in obj_xml:\n",
    "    \n",
    "    print(obj.find('width').text)\n",
    "    print(obj.find('height').text)"
   ]
  },
  {
   "cell_type": "code",
   "execution_count": 142,
   "metadata": {},
   "outputs": [
    {
     "ename": "AttributeError",
     "evalue": "'xml.etree.ElementTree.Element' object has no attribute 'int'",
     "output_type": "error",
     "traceback": [
      "\u001b[0;31m---------------------------------------------------------------------------\u001b[0m",
      "\u001b[0;31mAttributeError\u001b[0m                            Traceback (most recent call last)",
      "\u001b[0;32m<ipython-input-142-35e74d0ad74c>\u001b[0m in \u001b[0;36m<module>\u001b[0;34m()\u001b[0m\n\u001b[1;32m      1\u001b[0m \u001b[0;32mfor\u001b[0m \u001b[0mobj\u001b[0m \u001b[0;32min\u001b[0m \u001b[0mobj_xml\u001b[0m\u001b[0;34m:\u001b[0m\u001b[0;34m\u001b[0m\u001b[0m\n\u001b[1;32m      2\u001b[0m     \u001b[0mbbox_original\u001b[0m \u001b[0;34m=\u001b[0m \u001b[0mobj\u001b[0m\u001b[0;34m.\u001b[0m\u001b[0mfind\u001b[0m\u001b[0;34m(\u001b[0m\u001b[0;34m'bndbox'\u001b[0m\u001b[0;34m)\u001b[0m\u001b[0;34m\u001b[0m\u001b[0m\n\u001b[0;32m----> 3\u001b[0;31m     \u001b[0mprint\u001b[0m\u001b[0;34m(\u001b[0m\u001b[0mbbox_original\u001b[0m\u001b[0;34m.\u001b[0m\u001b[0mfind\u001b[0m\u001b[0;34m(\u001b[0m\u001b[0;34m'xmin'\u001b[0m\u001b[0;34m)\u001b[0m\u001b[0;34m.\u001b[0m\u001b[0mint\u001b[0m\u001b[0;34m)\u001b[0m\u001b[0;34m\u001b[0m\u001b[0m\n\u001b[0m\u001b[1;32m      4\u001b[0m \u001b[0;34m\u001b[0m\u001b[0m\n",
      "\u001b[0;31mAttributeError\u001b[0m: 'xml.etree.ElementTree.Element' object has no attribute 'int'"
     ]
    }
   ],
   "source": [
    "for obj in obj_xml:\n",
    "    bbox_original = obj.find('bndbox')\n",
    "    print(bbox_original.find('xmin').int) \n",
    "    \n"
   ]
  },
  {
   "cell_type": "code",
   "execution_count": 221,
   "metadata": {},
   "outputs": [],
   "source": [
    "def parse_rec(filename):\n",
    "    \"\"\" Parse a PASCAL VOC xml file \"\"\"\n",
    "    tree = ET.parse(filename)\n",
    "    objects = []\n",
    "    for obj in tree.findall('object'):\n",
    "        \n",
    "    for obj in tree.findall('object'):\n",
    "        obj_struct = {}\n",
    "        obj_struct['name'] = obj.find('name').text\n",
    "        obj_struct['pose'] = obj.find('pose').text\n",
    "        obj_struct['truncated'] = int(obj.find('truncated').text)\n",
    "        obj_struct['difficult'] = int(obj.find('difficult').text)\n",
    "        bbox = obj.find('bndbox')\n",
    "        obj_struct['bbox'] = [int(bbox.find('xmin').text) // 4,\n",
    "                              int(bbox.find('ymin').text) // 4,\n",
    "                              int(bbox.find('xmax').text) // 4,\n",
    "                              int(bbox.find('ymax').text) // 4]\n",
    "        #objects.update(obj_struct)\n",
    "        objects.append(obj_struct)\n",
    "    #objects.write('gt2.xml')\n",
    "    return objects"
   ]
  },
  {
   "cell_type": "code",
   "execution_count": 222,
   "metadata": {},
   "outputs": [
    {
     "data": {
      "text/plain": [
       "[{'bbox': [98, 1, 627, 322],\n",
       "  'difficult': 0,\n",
       "  'name': 'plates',\n",
       "  'pose': 'Unspecified',\n",
       "  'truncated': 0},\n",
       " {'bbox': [446, 231, 668, 340],\n",
       "  'difficult': 0,\n",
       "  'name': 'utensils',\n",
       "  'pose': 'Unspecified',\n",
       "  'truncated': 0}]"
      ]
     },
     "execution_count": 222,
     "metadata": {},
     "output_type": "execute_result"
    }
   ],
   "source": [
    "x = parse_rec('/home/redne/ZeroWaste/images/original/z1_resize_label/IMG_3116.xml')\n",
    "x"
   ]
  },
  {
   "cell_type": "code",
   "execution_count": 207,
   "metadata": {},
   "outputs": [
    {
     "name": "stdout",
     "output_type": "stream",
     "text": [
      "{'class1': [813, 141, 964, 296], 'class2': [824, 389, 989, 568]}\n"
     ]
    }
   ],
   "source": [
    "objects=[{'name': 'class1', 'bbox': [813, 141, 964, 296]}, {'name': 'class2', 'bbox': [824, 389, 989, 568]}]\n",
    "\n",
    "objects_an = { obj['name']:obj['bbox'] for obj in objects }\n",
    "print(objects_an)\n"
   ]
  },
  {
   "cell_type": "code",
   "execution_count": 209,
   "metadata": {},
   "outputs": [],
   "source": [
    "def func(row):\n",
    "    xml = ['<item>']\n",
    "    for field in row.index:\n",
    "        xml.append('  <field name=\"{0}\">{1}</field>'.format(field, row[field]))\n",
    "    xml.append('</item>')\n",
    "    return '\\n'.join(xml)"
   ]
  },
  {
   "cell_type": "code",
   "execution_count": 215,
   "metadata": {},
   "outputs": [
    {
     "data": {
      "text/plain": [
       "dict"
      ]
     },
     "execution_count": 215,
     "metadata": {},
     "output_type": "execute_result"
    }
   ],
   "source": [
    "type(x[1])"
   ]
  },
  {
   "cell_type": "code",
   "execution_count": null,
   "metadata": {},
   "outputs": [],
   "source": []
  },
  {
   "cell_type": "code",
   "execution_count": null,
   "metadata": {},
   "outputs": [],
   "source": []
  },
  {
   "cell_type": "code",
   "execution_count": 32,
   "metadata": {},
   "outputs": [],
   "source": [
    "with open('/home/redne/ZeroWaste/images/original/z1_resize_label/IMG_3116.xml', 'r') as file:\n",
    "    data = file.readlines()"
   ]
  },
  {
   "cell_type": "code",
   "execution_count": 33,
   "metadata": {},
   "outputs": [
    {
     "data": {
      "text/plain": [
       "['<annotation>\\n',\n",
       " '\\t<folder>zwaste</folder>\\n',\n",
       " '\\t<filename>IMG_3116.JPG</filename>\\n',\n",
       " '\\t<path>/home/redne/ZeroWaste/images/original/zwaste/IMG_3116.JPG</path>\\n',\n",
       " '\\t<source>\\n',\n",
       " '\\t\\t<database>Unknown</database>\\n',\n",
       " '\\t</source>\\n',\n",
       " '\\t<size>\\n',\n",
       " '\\t\\t<width>3264</width>\\n',\n",
       " '\\t\\t<height>2448</height>\\n',\n",
       " '\\t\\t<depth>3</depth>\\n',\n",
       " '\\t</size>\\n',\n",
       " '\\t<segmented>0</segmented>\\n',\n",
       " '\\t<object>\\n',\n",
       " '\\t\\t<name>plates</name>\\n',\n",
       " '\\t\\t<pose>Unspecified</pose>\\n',\n",
       " '\\t\\t<truncated>0</truncated>\\n',\n",
       " '\\t\\t<difficult>0</difficult>\\n',\n",
       " '\\t\\t<bndbox>\\n',\n",
       " '\\t\\t\\t<xmin>394</xmin>\\n',\n",
       " '\\t\\t\\t<ymin>5</ymin>\\n',\n",
       " '\\t\\t\\t<xmax>2508</xmax>\\n',\n",
       " '\\t\\t\\t<ymax>1290</ymax>\\n',\n",
       " '\\t\\t</bndbox>\\n',\n",
       " '\\t</object>\\n',\n",
       " '\\t<object>\\n',\n",
       " '\\t\\t<name>utensils</name>\\n',\n",
       " '\\t\\t<pose>Unspecified</pose>\\n',\n",
       " '\\t\\t<truncated>0</truncated>\\n',\n",
       " '\\t\\t<difficult>0</difficult>\\n',\n",
       " '\\t\\t<bndbox>\\n',\n",
       " '\\t\\t\\t<xmin>1784</xmin>\\n',\n",
       " '\\t\\t\\t<ymin>927</ymin>\\n',\n",
       " '\\t\\t\\t<xmax>2673</xmax>\\n',\n",
       " '\\t\\t\\t<ymax>1361</ymax>\\n',\n",
       " '\\t\\t</bndbox>\\n',\n",
       " '\\t</object>\\n',\n",
       " '</annotation>\\n']"
      ]
     },
     "execution_count": 33,
     "metadata": {},
     "output_type": "execute_result"
    }
   ],
   "source": [
    "data"
   ]
  },
  {
   "cell_type": "code",
   "execution_count": 34,
   "metadata": {},
   "outputs": [
    {
     "ename": "TypeError",
     "evalue": "a bytes-like object is required, not 'list'",
     "output_type": "error",
     "traceback": [
      "\u001b[0;31m---------------------------------------------------------------------------\u001b[0m",
      "\u001b[0;31mTypeError\u001b[0m                                 Traceback (most recent call last)",
      "\u001b[0;32m<ipython-input-34-538bf0543f55>\u001b[0m in \u001b[0;36m<module>\u001b[0;34m()\u001b[0m\n\u001b[0;32m----> 1\u001b[0;31m \u001b[0md\u001b[0m \u001b[0;34m=\u001b[0m \u001b[0mxmltodict\u001b[0m\u001b[0;34m.\u001b[0m\u001b[0mparse\u001b[0m\u001b[0;34m(\u001b[0m\u001b[0mdata\u001b[0m\u001b[0;34m)\u001b[0m\u001b[0;34m\u001b[0m\u001b[0m\n\u001b[0m",
      "\u001b[0;32m~/anaconda3/lib/python3.6/site-packages/xmltodict.py\u001b[0m in \u001b[0;36mparse\u001b[0;34m(xml_input, encoding, expat, process_namespaces, namespace_separator, disable_entities, **kwargs)\u001b[0m\n\u001b[1;32m    328\u001b[0m         \u001b[0mparser\u001b[0m\u001b[0;34m.\u001b[0m\u001b[0mParseFile\u001b[0m\u001b[0;34m(\u001b[0m\u001b[0mxml_input\u001b[0m\u001b[0;34m)\u001b[0m\u001b[0;34m\u001b[0m\u001b[0m\n\u001b[1;32m    329\u001b[0m     \u001b[0;32melse\u001b[0m\u001b[0;34m:\u001b[0m\u001b[0;34m\u001b[0m\u001b[0m\n\u001b[0;32m--> 330\u001b[0;31m         \u001b[0mparser\u001b[0m\u001b[0;34m.\u001b[0m\u001b[0mParse\u001b[0m\u001b[0;34m(\u001b[0m\u001b[0mxml_input\u001b[0m\u001b[0;34m,\u001b[0m \u001b[0;32mTrue\u001b[0m\u001b[0;34m)\u001b[0m\u001b[0;34m\u001b[0m\u001b[0m\n\u001b[0m\u001b[1;32m    331\u001b[0m     \u001b[0;32mreturn\u001b[0m \u001b[0mhandler\u001b[0m\u001b[0;34m.\u001b[0m\u001b[0mitem\u001b[0m\u001b[0;34m\u001b[0m\u001b[0m\n\u001b[1;32m    332\u001b[0m \u001b[0;34m\u001b[0m\u001b[0m\n",
      "\u001b[0;31mTypeError\u001b[0m: a bytes-like object is required, not 'list'"
     ]
    }
   ],
   "source": [
    "d = xmltodict.parse(data)"
   ]
  },
  {
   "cell_type": "code",
   "execution_count": null,
   "metadata": {},
   "outputs": [],
   "source": []
  }
 ],
 "metadata": {
  "kernelspec": {
   "display_name": "Python 3",
   "language": "python",
   "name": "python3"
  },
  "language_info": {
   "codemirror_mode": {
    "name": "ipython",
    "version": 3
   },
   "file_extension": ".py",
   "mimetype": "text/x-python",
   "name": "python",
   "nbconvert_exporter": "python",
   "pygments_lexer": "ipython3",
   "version": "3.6.4"
  }
 },
 "nbformat": 4,
 "nbformat_minor": 2
}
